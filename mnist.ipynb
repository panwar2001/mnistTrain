{
  "nbformat": 4,
  "nbformat_minor": 0,
  "metadata": {
    "colab": {
      "provenance": []
    },
    "kernelspec": {
      "name": "python3",
      "display_name": "Python 3"
    },
    "language_info": {
      "name": "python"
    },
    "accelerator": "TPU"
  },
  "cells": [
    {
      "cell_type": "code",
      "execution_count": 27,
      "metadata": {
        "id": "QvRgIAy-cxO-"
      },
      "outputs": [],
      "source": [
        "import keras\n",
        "from keras.datasets import mnist\n",
        "from keras.models import Sequential\n",
        "from keras.layers import Conv2D, MaxPooling2D, Flatten, Dense\n",
        "\n",
        "# Load the MNIST dataset\n",
        "(x_train, y_train), (x_test, y_test) = mnist.load_data()\n",
        "\n",
        "# Preprocess the data\n",
        "x_train = x_train.reshape(60000, 28, 28, 1).astype('float32') / 255\n",
        "x_test = x_test.reshape(10000, 28, 28, 1).astype('float32') / 255\n",
        "y_train = keras.utils.to_categorical(y_train, 10)\n",
        "y_test = keras.utils.to_categorical(y_test, 10)\n",
        "\n",
        "# Build the CNN model\n",
        "model = Sequential()\n",
        "model.add(Conv2D(32, (3, 3), activation='relu', input_shape=(28, 28, 1)))\n",
        "model.add(MaxPooling2D((2, 2)))\n",
        "model.add(Conv2D(64, (3, 3), activation='relu'))\n",
        "model.add(MaxPooling2D((2, 2)))\n",
        "model.add(Flatten())\n",
        "model.add(Dense(64, activation='relu'))\n",
        "model.add(Dense(10, activation='softmax'))\n",
        "\n",
        "# Compile the model\n",
        "model.compile(optimizer='adam', loss='categorical_crossentropy', metrics=['accuracy'])\n"
      ]
    },
    {
      "cell_type": "code",
      "source": [
        "model.fit(x_train, y_train, batch_size=128, epochs=15, verbose=1, validation_data=(x_test, y_test))\n"
      ],
      "metadata": {
        "colab": {
          "base_uri": "https://localhost:8080/"
        },
        "id": "6PQSJu68K0Ls",
        "outputId": "84cf05be-640f-4f6e-a8c8-432f6398f8d9"
      },
      "execution_count": 33,
      "outputs": [
        {
          "output_type": "stream",
          "name": "stdout",
          "text": [
            "Epoch 1/5\n",
            "469/469 [==============================] - 60s 128ms/step - loss: 0.0085 - accuracy: 0.9973 - val_loss: 0.0352 - val_accuracy: 0.9889\n",
            "Epoch 2/5\n",
            "469/469 [==============================] - 61s 129ms/step - loss: 0.0072 - accuracy: 0.9976 - val_loss: 0.0441 - val_accuracy: 0.9880\n",
            "Epoch 3/5\n",
            "469/469 [==============================] - 61s 131ms/step - loss: 0.0070 - accuracy: 0.9976 - val_loss: 0.0365 - val_accuracy: 0.9904\n",
            "Epoch 4/5\n",
            "469/469 [==============================] - 61s 130ms/step - loss: 0.0049 - accuracy: 0.9984 - val_loss: 0.0372 - val_accuracy: 0.9910\n",
            "Epoch 5/5\n",
            "469/469 [==============================] - 61s 131ms/step - loss: 0.0055 - accuracy: 0.9979 - val_loss: 0.0362 - val_accuracy: 0.9906\n"
          ]
        },
        {
          "output_type": "execute_result",
          "data": {
            "text/plain": [
              "<keras.callbacks.History at 0x7f4dd8b96cb0>"
            ]
          },
          "metadata": {},
          "execution_count": 33
        }
      ]
    }
  ]
}